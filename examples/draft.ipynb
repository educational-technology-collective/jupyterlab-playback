{
 "cells": [
  {
   "cell_type": "code",
   "execution_count": null,
   "id": "e6dad90c-8831-4682-a848-5bb9eba20446",
   "metadata": {},
   "outputs": [],
   "source": [
    "[FUNCTION]   [PARAMETER]\n",
    "[AUDIO+TYPE] [L1]\n",
    "[AUDIO+TYPE] [L3]\n",
    "[AUDIO+TYPE] [L4]\n",
    "[AUDIO+TYPE] [L5]\n",
    "[AUDIO+TYPE] [L6]\n",
    "[TYPE] [L7] + [PAUSE] [0.2]\n",
    "[TYPE] [L7,WPM=80]\n",
    "[SELECT] [L10] + [AUDIO] # Remember, you can pass a list into set index if you want a multilevel index.\n",
    "\n",
    "\n",
    "\n",
    "Type a line without audio\n",
    "Type a line with audio (audio is the same as the line being typed)\n",
    "Type a line with alternate audio (audio is different from the line being typed)\n",
    "Insert audio after some other action\n",
    "Select a line\n",
    "Select a portion of a line\n",
    "Select multiple lines\n",
    "Pause for some time period\n",
    "Execute the cell\n"
   ]
  },
  {
   "cell_type": "code",
   "execution_count": null,
   "id": "bde8fd47-44f8-4054-9e93-74d9c54b1d9a",
   "metadata": {},
   "outputs": [],
   "source": [
    "[AUDIO+TYPE] # Now let's test the second approach. As we notice, we use our global variable \n",
    "[AUDIO+TYPE] # df in the function. However, changing a global variable inside a function will \n",
    "[AUDIO+TYPE] # modify the variable even in a global scope and we do not want that to happen \n",
    "[AUDIO+TYPE] # in this case. Therefore, for selecting summary levels of 50 only, I create \n",
    "[AUDIO+TYPE] # a new dataframe for those records\n",
    "[PAUSE 0.4s]\n",
    "[TYPE 80wpm] def second_approach():\n",
    "[TYPE]             global df \n",
    "[AUDIO_WITH_PREVIOUS] # Let's make the dataframe global\n",
    "[TYPE_WITH_ALT_AUDIO]     global df # Let's make the dataframe global\n",
    "[SELECT_LINE 7+AUDIO] # Here I've decided to call the function second approach\n",
    "[TYPE]    new_df = df[df['SUMLEV']==50]\n",
    "[PASTE]\n",
    "    new_df.set_index(['STNAME','CTYNAME'], inplace=True)\n",
    "    return new_df.rename(columns={'ESTIMATESBASE2010': 'Estimates Base 2010'})\n",
    "timeit.timeit(second_approach, number=1)\n"
   ]
  },
  {
   "cell_type": "code",
   "execution_count": 1,
   "id": "acb41e33-4f40-4a43-85a4-70b4cfbb1402",
   "metadata": {},
   "outputs": [
    {
     "ename": "SyntaxError",
     "evalue": "invalid syntax (3097907595.py, line 2)",
     "output_type": "error",
     "traceback": [
      "\u001b[0;36m  Cell \u001b[0;32mIn[1], line 2\u001b[0;36m\u001b[0m\n\u001b[0;31m    type(\"# )+type_and_say(\"Now let's test the second approach. As we notice, we use our global variable\")\u001b[0m\n\u001b[0m                            ^\u001b[0m\n\u001b[0;31mSyntaxError\u001b[0m\u001b[0;31m:\u001b[0m invalid syntax\n"
     ]
    }
   ],
   "source": [
    "type(\" def second_approach():\")\n",
    "type(\"# )+type_and_say(\"Now let's test the second approach. As we notice, we use our global variable\")\n",
    "type_alt_say(type=\"    global df\", say=\"Let's make the dataframe global\")\n",
    "\n",
    "type(\"    new_df = df[df['SUMLEV']==50]\") + select(10,15) + say(\"Remember, you can pass a list into set index if you want a multilevel index.\")\n",
    "parallel( type(), say(), )"
   ]
  },
  {
   "cell_type": "code",
   "execution_count": null,
   "id": "a3cb8aea-4fd1-46d6-bfce-0f92fe544b96",
   "metadata": {},
   "outputs": [],
   "source": [
    "%Audio # Now let's test the second approach. As we notice, we use our global variable \n",
    "# df in the function. However, changing a global variable inside a function will \n",
    "# modify the variable even in a global scope and we do not want that to happen \n",
    "# in this case. Therefore, for selecting summary levels of 50 only, I create \n",
    "# a new dataframe for those records\n",
    "\n",
    "# Let's run this for once and see how fast it is\n",
    "\n",
    "def second_approach(): # I'll call this second approach\n",
    "    global df # Let's make the dataframe global\n",
    "    new_df = df[df['SUMLEV']==50] # Now, I want to only do this if the sumlevel is 50\n",
    "    new_df.set_index(['STNAME','CTYNAME'], inplace=True) # Now I'll just update the index\n",
    "    # [highlight L12, C17+10] Remember, you can pass a list into set index if you want a multilevel index.\n",
    "    # [scroll up 2, ...]\n",
    "    return new_df.rename(columns={'ESTIMATESBASE2010': 'Estimates Base 2010'})\n",
    "timeit.timeit(second_approach, number=1)"
   ]
  },
  {
   "cell_type": "code",
   "execution_count": null,
   "id": "5c94b798",
   "metadata": {},
   "outputs": [],
   "source": [
    "# Now let's test the second approach. As we notice, we use our global variable \n",
    "# df in the function. However, changing a global variable inside a function will \n",
    "# modify the variable even in a global scope and we do not want that to happen \n",
    "# in this case. Therefore, for selecting summary levels of 50 only, I create \n",
    "# a new dataframe for those records\n",
    "\n",
    "# Let's run this for once and see how fast it is\n",
    "\n",
    "def second_approach(): # I'll call this second approach\n",
    "    global df # Let's make the dataframe global\n",
    "    new_df = df[df['SUMLEV']==50] # Now, I want to only do this if the sumlevel is 50\n",
    "    new_df.set_index(['STNAME','CTYNAME'], inplace=True) # Now I'll just update the index\n",
    "    # [highlight L12, C17+10] Remember, you can pass a list into set index if you want a multilevel index.\n",
    "    # [scroll up 2, ...]\n",
    "    return new_df.rename(columns={'ESTIMATESBASE2010': 'Estimates Base 2010'})\n",
    "timeit.timeit(second_approach, number=1)"
   ]
  }
 ],
 "metadata": {
  "firstTimeUsingHintbot": true,
  "kernelspec": {
   "display_name": "Python 3 (ipykernel)",
   "language": "python",
   "name": "python3"
  },
  "language_info": {
   "codemirror_mode": {
    "name": "ipython",
    "version": 3
   },
   "file_extension": ".py",
   "mimetype": "text/x-python",
   "name": "python",
   "nbconvert_exporter": "python",
   "pygments_lexer": "ipython3",
   "version": "3.10.15"
  }
 },
 "nbformat": 4,
 "nbformat_minor": 5
}
