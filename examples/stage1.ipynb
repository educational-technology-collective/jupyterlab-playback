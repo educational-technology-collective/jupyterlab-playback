{
 "cells": [
  {
   "cell_type": "code",
   "execution_count": null,
   "metadata": {},
   "outputs": [],
   "source": [
    "[AUDIO, TYPE]# Let's import the pandas library \n",
    "[TYPE]import pandas as pd\n",
    "[EXECUTE]"
   ]
  },
  {
   "cell_type": "code",
   "execution_count": null,
   "metadata": {},
   "outputs": [],
   "source": [
    "[AUDIOALT, TYPE]# One of the most common and easiest files to work with is a CSV file or comma-separated text file. Loading,**One of the most common and easiest files to work with is a cee-ess-vee file or comma-separated text file. Loading,**\n",
    "[AUDIOALT, TYPE]# reading and writing CSV files is a key skill to master for any data scientist**reading and writing cee-ess-vee files is a key skill to master for any data scientist.**\n",
    "[PAUSE500]\n",
    "[AUDIOALT, TYPE]# To review, a CSV is a txt file where values or columns are separated by commas CSV is quick to read and is**To review, a cee-ess-vee is a txt file where values or columns are separated by commas. cee-ess-vee is quick to read and is**\n",
    "[AUDIOALT, TYPE]# compatible with most platforms, you can even open a CSV file with the text editor built into Jupyter**compatible with most platforms, you can even open a cee-ess-vee file with the text editor built into Jupyter**\n",
    "[PAUSE500]\n",
    "[AUDIOALT, TYPE]# While CSV is very easy to load, real world data rarely contains clean data in these cases, there are a few**While cee-ess-vee is very easy to load, real world data rarely contains clean data in these cases, there are a few**\n",
    "[AUDIO, TYPE]# different pandas functions that can help out with messy data here is an example of a file I pulled from\n",
    "[AUDIO, TYPE]# google containing data on national education.\n",
    "[TYPE]df= pd.read_csv ('datasets/National-2018-20190321.csv')\n",
    "[TYPE]print(df.head())\n",
    "[SELECT10, SELECT11, EXECUTE, PAUSE1500]\n",
    "[AUDIO, TYPE]# We can summarize the counts of unique values for a specific column, so the most frequently-occurring\n",
    "[AUDIO, TYPE]# element and how much they occur\n",
    "[TYPE]df['Qualification'].value_counts()\n",
    "[SELECT15, EXECUTE, PAUSE3000]"
   ]
  },
  {
   "cell_type": "code",
   "execution_count": null,
   "metadata": {},
   "outputs": [],
   "source": []
  }
 ],
 "metadata": {
  "etc_identifier": "d157b60f-1aee-40ab-898c-ee7d1556d9fb",
  "kernelspec": {
   "display_name": "Python 3 (ipykernel)",
   "language": "python",
   "name": "python3"
  },
  "language_info": {
   "codemirror_mode": {
    "name": "ipython",
    "version": 3
   },
   "file_extension": ".py",
   "mimetype": "text/x-python",
   "name": "python",
   "nbconvert_exporter": "python",
   "pygments_lexer": "ipython3",
   "version": "3.10.15"
  }
 },
 "nbformat": 4,
 "nbformat_minor": 4
}
