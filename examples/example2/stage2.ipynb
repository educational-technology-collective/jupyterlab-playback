{
 "cells": [
  {
   "cell_type": "code",
   "execution_count": 1,
   "metadata": {
    "map": [
     {
      "audio_index": 0,
      "audio_src": "/Users/mengyanw/University of Michigan Dropbox/Mengyan Wu/video/examples/example2/audio/0.wav",
      "command": [
       "AUDIO",
       "TYPE"
      ],
      "text": "# With that background, let's see an example of how we would do this in pandas, where we would use the merge\n"
     },
     {
      "audio_index": 0,
      "audio_src": "/Users/mengyanw/University of Michigan Dropbox/Mengyan Wu/video/examples/example2/audio/0.wav",
      "command": [
       "AUDIO",
       "TYPE"
      ],
      "text": "# function.\n"
     },
     {
      "command": [
       "TYPE"
      ],
      "text": "import pandas as pd\n"
     },
     {
      "command": [
       "PAUSE500"
      ],
      "text": "\n"
     },
     {
      "audio_index": 1,
      "audio_src": "/Users/mengyanw/University of Michigan Dropbox/Mengyan Wu/video/examples/example2/audio/1.wav",
      "command": [
       "AUDIO",
       "TYPE"
      ],
      "text": "# First we create two DataFrames, staff and students.\n"
     },
     {
      "command": [
       "TYPE"
      ],
      "text": "staff_df = pd.DataFrame([{'Name': 'Kelly', 'Role': 'Director of HR'},\n"
     },
     {
      "command": [
       "TYPE"
      ],
      "text": "                        {'Name': 'Sally', 'Role': 'Course liasion'},\n"
     },
     {
      "command": [
       "TYPE"
      ],
      "text": "                        {'Name': 'James', 'Role': 'Grader'}])\n"
     },
     {
      "audio_index": 2,
      "audio_src": "/Users/mengyanw/University of Michigan Dropbox/Mengyan Wu/video/examples/example2/audio/2.wav",
      "command": [
       "AUDIO",
       "TYPE"
      ],
      "text": "# And lets index these staff by name\n"
     },
     {
      "command": [
       "TYPE"
      ],
      "text": "staff_df = staff_df.set_index('Name')\n"
     },
     {
      "command": [
       "PAUSE1000"
      ],
      "text": "\n"
     },
     {
      "audio_index": 3,
      "audio_src": "/Users/mengyanw/University of Michigan Dropbox/Mengyan Wu/video/examples/example2/audio/3.wav",
      "command": [
       "AUDIO",
       "TYPE"
      ],
      "text": "# Now we'll create a student dataframe\n"
     },
     {
      "command": [
       "TYPE"
      ],
      "text": "student_df = pd.DataFrame([{'Name': 'James', 'School': 'Business'},\n"
     },
     {
      "command": [
       "TYPE"
      ],
      "text": "                           {'Name': 'Mike', 'School': 'Law'},\n"
     },
     {
      "command": [
       "TYPE"
      ],
      "text": "                           {'Name': 'Sally', 'School': 'Engineering'}])\n"
     },
     {
      "audio_index": 4,
      "audio_src": "/Users/mengyanw/University of Michigan Dropbox/Mengyan Wu/video/examples/example2/audio/4.wav",
      "command": [
       "AUDIO",
       "TYPE"
      ],
      "text": "# And we'll index this by name too\n"
     },
     {
      "command": [
       "TYPE"
      ],
      "text": "student_df = student_df.set_index('Name')\n"
     },
     {
      "command": [
       "PAUSE1000"
      ],
      "text": "\n"
     },
     {
      "audio_index": 5,
      "audio_src": "/Users/mengyanw/University of Michigan Dropbox/Mengyan Wu/video/examples/example2/audio/5.wav",
      "command": [
       "AUDIO",
       "TYPE"
      ],
      "text": "# And lets just print out the dataframes\n"
     },
     {
      "command": [
       "TYPE"
      ],
      "text": "print(staff_df.head())\n"
     },
     {
      "command": [
       "TYPE"
      ],
      "text": "print(student_df.head())\n"
     },
     {
      "command": [
       "EXECUTE",
       "PAUSE3000"
      ],
      "text": ""
     }
    ]
   },
   "outputs": [
    {
     "name": "stdout",
     "output_type": "stream",
     "text": [
      "                 Role\n",
      "Name                 \n",
      "Kelly  Director of HR\n",
      "Sally  Course liasion\n",
      "James          Grader\n",
      "            School\n",
      "Name              \n",
      "James     Business\n",
      "Mike           Law\n",
      "Sally  Engineering\n"
     ]
    }
   ],
   "source": [
    "# With that background, let's see an example of how we would do this in pandas, where we would use the merge\n",
    "# function.\n",
    "import pandas as pd\n",
    "\n",
    "# First we create two DataFrames, staff and students.\n",
    "staff_df = pd.DataFrame([{'Name': 'Kelly', 'Role': 'Director of HR'},\n",
    "                        {'Name': 'Sally', 'Role': 'Course liasion'},\n",
    "                        {'Name': 'James', 'Role': 'Grader'}])\n",
    "# And lets index these staff by name\n",
    "staff_df = staff_df.set_index('Name')\n",
    "\n",
    "# Now we'll create a student dataframe\n",
    "student_df = pd.DataFrame([{'Name': 'James', 'School': 'Business'},\n",
    "                           {'Name': 'Mike', 'School': 'Law'},\n",
    "                           {'Name': 'Sally', 'School': 'Engineering'}])\n",
    "# And we'll index this by name too\n",
    "student_df = student_df.set_index('Name')\n",
    "\n",
    "# And lets just print out the dataframes\n",
    "print(staff_df.head())\n",
    "print(student_df.head())\n",
    "\n"
   ]
  },
  {
   "cell_type": "code",
   "execution_count": null,
   "metadata": {
    "map": [
     {
      "audio_index": 6,
      "audio_src": "/Users/mengyanw/University of Michigan Dropbox/Mengyan Wu/video/examples/example2/audio/6.wav",
      "command": [
       "AUDIO",
       "TYPE"
      ],
      "text": "# There's some overlap in these DataFrames in that James and Sally are both students and staff, but Mike and\n"
     },
     {
      "audio_index": 6,
      "audio_src": "/Users/mengyanw/University of Michigan Dropbox/Mengyan Wu/video/examples/example2/audio/6.wav",
      "command": [
       "AUDIO",
       "TYPE"
      ],
      "text": "# Kelly are not. Importantly, both DataFrames are indexed along the value we want to merge them on, which is\n"
     },
     {
      "audio_index": 6,
      "audio_src": "/Users/mengyanw/University of Michigan Dropbox/Mengyan Wu/video/examples/example2/audio/6.wav",
      "command": [
       "AUDIO",
       "TYPE"
      ],
      "text": "# called Name."
     }
    ]
   },
   "outputs": [],
   "source": [
    "# There's some overlap in these DataFrames in that James and Sally are both students and staff, but Mike and\n",
    "# Kelly are not. Importantly, both DataFrames are indexed along the value we want to merge them on, which is\n",
    "# called Name."
   ]
  },
  {
   "cell_type": "code",
   "execution_count": 2,
   "metadata": {
    "map": [
     {
      "audio_index": 7,
      "audio_src": "/Users/mengyanw/University of Michigan Dropbox/Mengyan Wu/video/examples/example2/audio/7.wav",
      "command": [
       "AUDIO",
       "TYPE"
      ],
      "text": "# If we want the union of these, we would call merge() passing in the DataFrame on the left and the DataFrame\n"
     },
     {
      "audio_index": 7,
      "audio_src": "/Users/mengyanw/University of Michigan Dropbox/Mengyan Wu/video/examples/example2/audio/7.wav",
      "command": [
       "AUDIO",
       "TYPE"
      ],
      "text": "# on the right and telling merge that we want it to use an outer join. We want to use the left and right\n"
     },
     {
      "audio_index": 7,
      "audio_src": "/Users/mengyanw/University of Michigan Dropbox/Mengyan Wu/video/examples/example2/audio/7.wav",
      "command": [
       "AUDIO",
       "TYPE"
      ],
      "text": "# indices as the joining columns.\n"
     },
     {
      "command": [
       "PAUSE500"
      ],
      "text": "\n"
     },
     {
      "command": [
       "TYPE"
      ],
      "text": "pd.merge(staff_df, student_df, how='outer', left_index=True, right_index=True)\n"
     },
     {
      "command": [
       "EXECUTE",
       "SELECT5",
       "PAUSE3000"
      ],
      "text": ""
     }
    ]
   },
   "outputs": [
    {
     "data": {
      "text/html": [
       "<div>\n",
       "<style scoped>\n",
       "    .dataframe tbody tr th:only-of-type {\n",
       "        vertical-align: middle;\n",
       "    }\n",
       "\n",
       "    .dataframe tbody tr th {\n",
       "        vertical-align: top;\n",
       "    }\n",
       "\n",
       "    .dataframe thead th {\n",
       "        text-align: right;\n",
       "    }\n",
       "</style>\n",
       "<table border=\"1\" class=\"dataframe\">\n",
       "  <thead>\n",
       "    <tr style=\"text-align: right;\">\n",
       "      <th></th>\n",
       "      <th>Role</th>\n",
       "      <th>School</th>\n",
       "    </tr>\n",
       "    <tr>\n",
       "      <th>Name</th>\n",
       "      <th></th>\n",
       "      <th></th>\n",
       "    </tr>\n",
       "  </thead>\n",
       "  <tbody>\n",
       "    <tr>\n",
       "      <th>James</th>\n",
       "      <td>Grader</td>\n",
       "      <td>Business</td>\n",
       "    </tr>\n",
       "    <tr>\n",
       "      <th>Kelly</th>\n",
       "      <td>Director of HR</td>\n",
       "      <td>NaN</td>\n",
       "    </tr>\n",
       "    <tr>\n",
       "      <th>Mike</th>\n",
       "      <td>NaN</td>\n",
       "      <td>Law</td>\n",
       "    </tr>\n",
       "    <tr>\n",
       "      <th>Sally</th>\n",
       "      <td>Course liasion</td>\n",
       "      <td>Engineering</td>\n",
       "    </tr>\n",
       "  </tbody>\n",
       "</table>\n",
       "</div>"
      ],
      "text/plain": [
       "                 Role       School\n",
       "Name                              \n",
       "James          Grader     Business\n",
       "Kelly  Director of HR          NaN\n",
       "Mike              NaN          Law\n",
       "Sally  Course liasion  Engineering"
      ]
     },
     "execution_count": 2,
     "metadata": {},
     "output_type": "execute_result"
    }
   ],
   "source": [
    "# If we want the union of these, we would call merge() passing in the DataFrame on the left and the DataFrame\n",
    "# on the right and telling merge that we want it to use an outer join. We want to use the left and right\n",
    "# indices as the joining columns.\n",
    "\n",
    "pd.merge(staff_df, student_df, how='outer', left_index=True, right_index=True)\n",
    "\n"
   ]
  },
  {
   "cell_type": "code",
   "execution_count": 3,
   "metadata": {
    "map": [
     {
      "audio_index": 8,
      "audio_src": "/Users/mengyanw/University of Michigan Dropbox/Mengyan Wu/video/examples/example2/audio/8.wav",
      "command": [
       "AUDIO",
       "TYPE"
      ],
      "text": "# We see in the resulting DataFrame that everyone is listed. And since Mike does not have a role, and John\n"
     },
     {
      "audio_index": 8,
      "audio_src": "/Users/mengyanw/University of Michigan Dropbox/Mengyan Wu/video/examples/example2/audio/8.wav",
      "command": [
       "AUDIO",
       "TYPE"
      ],
      "text": "# does not have a school, those cells are listed as missing values.\n"
     },
     {
      "command": [
       "PAUSE500"
      ],
      "text": "\n"
     },
     {
      "audio_index": 9,
      "audio_src": "/Users/mengyanw/University of Michigan Dropbox/Mengyan Wu/video/examples/example2/audio/9.wav",
      "command": [
       "AUDIO",
       "TYPE"
      ],
      "text": "# If we wanted to get the intersection, that is, just those who are a student AND a staff, we could set the\n"
     },
     {
      "audio_index": 9,
      "audio_src": "/Users/mengyanw/University of Michigan Dropbox/Mengyan Wu/video/examples/example2/audio/9.wav",
      "command": [
       "AUDIO",
       "TYPE"
      ],
      "text": "# how attribute to inner. Again, we set both left and right indices to be true as the joining columns\n"
     },
     {
      "command": [
       "TYPE"
      ],
      "text": "pd.merge(staff_df, student_df, how='inner', left_index=True, right_index=True)\n"
     },
     {
      "command": [
       "EXECUTE",
       "SELECT6",
       "PAUSE3000"
      ],
      "text": ""
     }
    ]
   },
   "outputs": [
    {
     "data": {
      "text/html": [
       "<div>\n",
       "<style scoped>\n",
       "    .dataframe tbody tr th:only-of-type {\n",
       "        vertical-align: middle;\n",
       "    }\n",
       "\n",
       "    .dataframe tbody tr th {\n",
       "        vertical-align: top;\n",
       "    }\n",
       "\n",
       "    .dataframe thead th {\n",
       "        text-align: right;\n",
       "    }\n",
       "</style>\n",
       "<table border=\"1\" class=\"dataframe\">\n",
       "  <thead>\n",
       "    <tr style=\"text-align: right;\">\n",
       "      <th></th>\n",
       "      <th>Role</th>\n",
       "      <th>School</th>\n",
       "    </tr>\n",
       "    <tr>\n",
       "      <th>Name</th>\n",
       "      <th></th>\n",
       "      <th></th>\n",
       "    </tr>\n",
       "  </thead>\n",
       "  <tbody>\n",
       "    <tr>\n",
       "      <th>Sally</th>\n",
       "      <td>Course liasion</td>\n",
       "      <td>Engineering</td>\n",
       "    </tr>\n",
       "    <tr>\n",
       "      <th>James</th>\n",
       "      <td>Grader</td>\n",
       "      <td>Business</td>\n",
       "    </tr>\n",
       "  </tbody>\n",
       "</table>\n",
       "</div>"
      ],
      "text/plain": [
       "                 Role       School\n",
       "Name                              \n",
       "Sally  Course liasion  Engineering\n",
       "James          Grader     Business"
      ]
     },
     "execution_count": 3,
     "metadata": {},
     "output_type": "execute_result"
    }
   ],
   "source": [
    "# We see in the resulting DataFrame that everyone is listed. And since Mike does not have a role, and John\n",
    "# does not have a school, those cells are listed as missing values.\n",
    "\n",
    "# If we wanted to get the intersection, that is, just those who are a student AND a staff, we could set the\n",
    "# how attribute to inner. Again, we set both left and right indices to be true as the joining columns\n",
    "pd.merge(staff_df, student_df, how='inner', left_index=True, right_index=True)\n",
    "\n"
   ]
  }
 ],
 "metadata": {
  "etc_identifier": "0ff0774b-1313-47a5-805d-3786af5b62bf",
  "kernelspec": {
   "display_name": "Python 3 (ipykernel)",
   "language": "python",
   "name": "python3"
  },
  "language_info": {
   "codemirror_mode": {
    "name": "ipython",
    "version": 3
   },
   "file_extension": ".py",
   "mimetype": "text/x-python",
   "name": "python",
   "nbconvert_exporter": "python",
   "pygments_lexer": "ipython3",
   "version": "3.10.15"
  }
 },
 "nbformat": 4,
 "nbformat_minor": 4
}
