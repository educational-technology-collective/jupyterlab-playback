{
 "cells": [
  {
   "cell_type": "code",
   "execution_count": null,
   "metadata": {},
   "outputs": [],
   "source": [
    "# With that background, let's see an example of how we would do this in pandas, where we would use the merge\n",
    "# function.\n",
    "import pandas as pd\n",
    "\n",
    "# First we create two DataFrames, staff and students.\n",
    "staff_df = pd.DataFrame([{'Name': 'Kelly', 'Role': 'Director of HR'},\n",
    "                         {'Name': 'Sally', 'Role': 'Course liasion'},\n",
    "                         {'Name': 'James', 'Role': 'Grader'}])\n",
    "# And lets index these staff by name\n",
    "staff_df = staff_df.set_index('Name')\n",
    "# Now we'll create a student dataframe\n",
    "student_df = pd.DataFrame([{'Name': 'James', 'School': 'Business'},\n",
    "                           {'Name': 'Mike', 'School': 'Law'},\n",
    "                           {'Name': 'Sally', 'School': 'Engineering'}])\n",
    "# And we'll index this by name too\n",
    "student_df = student_df.set_index('Name')\n",
    "\n",
    "# And lets just print out the dataframes\n",
    "print(staff_df.head())\n",
    "print(student_df.head())"
   ]
  },
  {
   "cell_type": "code",
   "execution_count": null,
   "metadata": {},
   "outputs": [],
   "source": [
    "# There's some overlap in these DataFrames in that James and Sally are both students and staff, but Mike and\n",
    "# Kelly are not. Importantly, both DataFrames are indexed along the value we want to merge them on, which is\n",
    "# called Name."
   ]
  },
  {
   "cell_type": "code",
   "execution_count": null,
   "metadata": {},
   "outputs": [],
   "source": [
    "# If we want the union of these, we would call merge() passing in the DataFrame on the left and the DataFrame\n",
    "# on the right and telling merge that we want it to use an outer join. We want to use the left and right\n",
    "# indices as the joining columns.\n",
    "\n",
    "pd.merge(staff_df, student_df, how='outer', left_index=True, right_index=True)"
   ]
  },
  {
   "cell_type": "code",
   "execution_count": null,
   "metadata": {},
   "outputs": [],
   "source": [
    "# We see in the resulting DataFrame that everyone is listed. And since Mike does not have a role, and John\n",
    "# does not have a school, those cells are listed as missing values.\n",
    "\n",
    "# If we wanted to get the intersection, that is, just those who are a student AND a staff, we could set the\n",
    "# how attribute to inner. Again, we set both left and right indices to be true as the joining columns\n",
    "pd.merge(staff_df, student_df, how='inner', left_index=True, right_index=True)"
   ]
  },
  {
   "cell_type": "code",
   "execution_count": null,
   "metadata": {},
   "outputs": [],
   "source": [
    "# And we see the resulting DataFrame has only James and Sally in it. Now there are two other common use cases\n",
    "# when merging DataFrames, and both are examples of what we would call set addition. The first is when we\n",
    "# would want to get a list of all staff regardless of whether they were students or not. But if they were\n",
    "# students, we would want to get their student details as well. To do this we would use a left join. It is\n",
    "# important to note the order of dataframes in this function: the first dataframe is the left dataframe and\n",
    "# the second is the right\n",
    "\n",
    "pd.merge(staff_df, student_df, how='left', left_index=True, right_index=True)"
   ]
  },
  {
   "cell_type": "code",
   "execution_count": null,
   "metadata": {},
   "outputs": [],
   "source": [
    "# You could probably guess what comes next. We want a list of all of the students and their roles if they were\n",
    "# also staff. To do this we would do a right join.\n",
    "pd.merge(staff_df, student_df, how='right', left_index=True, right_index=True)"
   ]
  }
 ],
 "metadata": {
  "etc_identifier": "0ff0774b-1313-47a5-805d-3786af5b62bf",
  "kernelspec": {
   "display_name": "Python 3 (ipykernel)",
   "language": "python",
   "name": "python3"
  },
  "language_info": {
   "codemirror_mode": {
    "name": "ipython",
    "version": 3
   },
   "file_extension": ".py",
   "mimetype": "text/x-python",
   "name": "python",
   "nbconvert_exporter": "python",
   "pygments_lexer": "ipython3",
   "version": "3.7.10"
  }
 },
 "nbformat": 4,
 "nbformat_minor": 4
}
