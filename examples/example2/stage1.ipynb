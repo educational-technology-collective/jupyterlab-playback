{
 "cells": [
  {
   "cell_type": "code",
   "execution_count": null,
   "metadata": {},
   "outputs": [],
   "source": [
    "[AUDIO, TYPE]# With that background, let's see an example of how we would do this in pandas, where we would use the merge\n",
    "[AUDIO, TYPE]# function.\n",
    "[TYPE]import pandas as pd\n",
    "[PAUSE500]\n",
    "[AUDIO, TYPE]# First we create two DataFrames, staff and students.\n",
    "[TYPE]staff_df = pd.DataFrame([{'Name': 'Kelly', 'Role': 'Director of HR'},\n",
    "[TYPE]                        {'Name': 'Sally', 'Role': 'Course liasion'},\n",
    "[TYPE]                        {'Name': 'James', 'Role': 'Grader'}])\n",
    "[AUDIO, TYPE]# And lets index these staff by name\n",
    "[TYPE]staff_df = staff_df.set_index('Name')\n",
    "[PAUSE1000]\n",
    "[AUDIO, TYPE]# Now we'll create a student dataframe\n",
    "[TYPE]student_df = pd.DataFrame([{'Name': 'James', 'School': 'Business'},\n",
    "[TYPE]                           {'Name': 'Mike', 'School': 'Law'},\n",
    "[TYPE]                           {'Name': 'Sally', 'School': 'Engineering'}])\n",
    "[AUDIO, TYPE]# And we'll index this by name too\n",
    "[TYPE]student_df = student_df.set_index('Name')\n",
    "[PAUSE1000]\n",
    "[AUDIO, TYPE]# And lets just print out the dataframes\n",
    "[TYPE]print(staff_df.head())\n",
    "[TYPE]print(student_df.head())\n",
    "[EXECUTE, PAUSE3000]"
   ]
  },
  {
   "cell_type": "code",
   "execution_count": null,
   "metadata": {},
   "outputs": [],
   "source": [
    "[AUDIO, TYPE]# There's some overlap in these DataFrames in that James and Sally are both students and staff, but Mike and\n",
    "[AUDIO, TYPE]# Kelly are not. Importantly, both DataFrames are indexed along the value we want to merge them on, which is\n",
    "[AUDIO, TYPE]# called Name."
   ]
  },
  {
   "cell_type": "code",
   "execution_count": null,
   "metadata": {},
   "outputs": [],
   "source": [
    "[AUDIO, TYPE]# If we want the union of these, we would call merge() passing in the DataFrame on the left and the DataFrame\n",
    "[AUDIO, TYPE]# on the right and telling merge that we want it to use an outer join. We want to use the left and right\n",
    "[AUDIO, TYPE]# indices as the joining columns.\n",
    "[PAUSE500]\n",
    "[TYPE]pd.merge(staff_df, student_df, how='outer', left_index=True, right_index=True)\n",
    "[EXECUTE, SELECT5, PAUSE3000]"
   ]
  },
  {
   "cell_type": "code",
   "execution_count": null,
   "metadata": {},
   "outputs": [],
   "source": [
    "[AUDIO, TYPE]# We see in the resulting DataFrame that everyone is listed. And since Mike does not have a role, and John\n",
    "[AUDIO, TYPE]# does not have a school, those cells are listed as missing values.\n",
    "[PAUSE500]\n",
    "[AUDIO, TYPE]# If we wanted to get the intersection, that is, just those who are a student AND a staff, we could set the\n",
    "[AUDIO, TYPE]# how attribute to inner. Again, we set both left and right indices to be true as the joining columns\n",
    "[TYPE]pd.merge(staff_df, student_df, how='inner', left_index=True, right_index=True)\n",
    "[EXECUTE, SELECT6, PAUSE3000]"
   ]
  }
 ],
 "metadata": {
  "etc_identifier": "0ff0774b-1313-47a5-805d-3786af5b62bf",
  "kernelspec": {
   "display_name": "Python 3 (ipykernel)",
   "language": "python",
   "name": "python3"
  },
  "language_info": {
   "codemirror_mode": {
    "name": "ipython",
    "version": 3
   },
   "file_extension": ".py",
   "mimetype": "text/x-python",
   "name": "python",
   "nbconvert_exporter": "python",
   "pygments_lexer": "ipython3",
   "version": "3.10.15"
  }
 },
 "nbformat": 4,
 "nbformat_minor": 4
}
