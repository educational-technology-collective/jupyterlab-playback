{
 "cells": [
  {
   "cell_type": "code",
   "execution_count": 1,
   "metadata": {
    "editable": true,
    "map": [
     {
      "command": [
       "AUDIO",
       "TYPE"
      ]
     },
     {
      "command": [
       "TYPE"
      ]
     },
     {
      "command": [
       "EXECUTE"
      ]
     }
    ],
    "slideshow": {
     "slide_type": ""
    },
    "tags": []
   },
   "outputs": [],
   "source": [
    "# Let's import the pandas library \n",
    "import pandas as pd\n"
   ]
  },
  {
   "cell_type": "code",
   "execution_count": null,
   "metadata": {
    "editable": true,
    "map": [
     {
      "command": [
       "TYPE",
       "AUDIOALT|One of the most common and easiest files to work with is a cee-ess-vee file or comma-separated text file. Loading,"
      ]
     },
     {
      "command": [
       "TYPE",
       "AUDIOALT|reading and writing cee-ess-vee files is a key skill to master for any data scientist."
      ]
     },
     {
      "command": [
       "PAUSE500"
      ]
     },
     {
      "command": [
       "TYPE",
       "AUDIOALT|To review, a cee-ess-vee is a tee-ex-tee file where values or columns are separated by commas. cee-ess-vee is quick to read and is"
      ]
     },
     {
      "command": [
       "TYPE",
       "AUDIOALT|compatible with most platforms, you can even open a cee-ess-vee file with the text editor built into Jupyter"
      ]
     },
     {
      "command": [
       "PAUSE500"
      ]
     },
     {
      "command": [
       "TYPE",
       "AUDIOALT|While cee-ess-vee is very easy to load, real world data rarely contains clean data in these cases, there are a few"
      ]
     },
     {
      "command": [
       "AUDIO",
       "TYPE"
      ]
     },
     {
      "command": [
       "AUDIO",
       "TYPE"
      ]
     },
     {
      "command": [
       "TYPE"
      ]
     },
     {
      "command": [
       "TYPE"
      ]
     },
     {
      "command": [
       "SELECT10",
       "SELECT11",
       "EXECUTE",
       "PAUSE1500"
      ]
     },
     {
      "command": [
       "AUDIO",
       "TYPE"
      ]
     },
     {
      "command": [
       "AUDIO",
       "TYPE"
      ]
     },
     {
      "command": [
       "TYPE"
      ]
     },
     {
      "command": [
       "SELECT15",
       "EXECUTE",
       "PAUSE3000"
      ]
     }
    ],
    "slideshow": {
     "slide_type": ""
    },
    "tags": []
   },
   "outputs": [],
   "source": [
    "# One of the most common and easiest files to work with is a CSV file or comma-separated text file. Loading,\n",
    "# reading and writing CSV files is a key skill to master for any data scientist.\n",
    "\n",
    "# To review,a  CSV is a txt file where values or columns are separated by commas CSV is quick to read and is\n",
    "# compatible with most platforms, you can even open a CSV file with the text editor built into Jupyter\n",
    "\n",
    "# While CSV is very easy to load, real world data rarly contains clean data in these cases, there are a few\n",
    "# different pandas functions that can help out with messy data here is an example of a CSV file I pulled from\n",
    "# google containing data on national education.\n",
    "df= pd.read_csv ('datasets/National-2018-20190321.csv')\n",
    "print(df.head())\n",
    "\n",
    "# We can summerize the counts of unique values for a specific collumn, so the most frequently-occurring\n",
    "# element and how much they occur\n",
    "df['Qualification'].value_counts()\n"
   ]
  },
  {
   "cell_type": "code",
   "execution_count": null,
   "metadata": {
    "map": [
     {
      "command": [
       "AUDIO",
       "TYPE"
      ]
     },
     {
      "command": [
       "TYPE"
      ]
     }
    ]
   },
   "outputs": [],
   "source": [
    "# Lets bring innumpy\n",
    "import numpy as np"
   ]
  }
 ],
 "metadata": {
  "etc_identifier": "d157b60f-1aee-40ab-898c-ee7d1556d9fb",
  "kernelspec": {
   "display_name": "Python 3 (ipykernel)",
   "language": "python",
   "name": "python3"
  },
  "language_info": {
   "codemirror_mode": {
    "name": "ipython",
    "version": 3
   },
   "file_extension": ".py",
   "mimetype": "text/x-python",
   "name": "python",
   "nbconvert_exporter": "python",
   "pygments_lexer": "ipython3",
   "version": "3.10.15"
  },
  "mode": "editor"
 },
 "nbformat": 4,
 "nbformat_minor": 4
}
