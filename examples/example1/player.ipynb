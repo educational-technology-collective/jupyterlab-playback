{
 "cells": [
  {
   "cell_type": "code",
   "execution_count": 2,
   "metadata": {
    "editable": true,
    "full_map": [
     {
      "audio_index": 0,
      "audio_src": "/Users/mengyanw/University of Michigan Dropbox/Mengyan Wu/video/examples/example1/audio/0.wav",
      "command": [
       "AUDIO",
       "TYPE"
      ],
      "text": "# Let's import the pandas library "
     },
     {
      "command": [
       "TYPE"
      ],
      "text": "import pandas as pd"
     },
     {
      "command": [
       "EXECUTE"
      ],
      "text": ""
     }
    ],
    "map": [
     {
      "command": [
       "AUDIO",
       "TYPE"
      ]
     },
     {
      "command": [
       "TYPE"
      ]
     },
     {
      "command": [
       "EXECUTE"
      ]
     }
    ],
    "slideshow": {
     "slide_type": ""
    },
    "tags": []
   },
   "outputs": [],
   "source": [
    "# Let's import the pandas library \n",
    "import pandas as pd\n"
   ]
  },
  {
   "cell_type": "code",
   "execution_count": 1,
   "metadata": {
    "editable": true,
    "full_map": [
     {
      "audio_index": 1,
      "audio_src": "/Users/mengyanw/University of Michigan Dropbox/Mengyan Wu/video/examples/example1/audio/1.wav",
      "command": [
       "TYPE",
       "AUDIOALT|One of the most common and easiest files to work with is a cee-ess-vee file or comma-separated text file. Loading,"
      ],
      "text": "# One of the most common and easiest files to work with is a CSV file or comma-separated text file. Loading,"
     },
     {
      "audio_index": 1,
      "audio_src": "/Users/mengyanw/University of Michigan Dropbox/Mengyan Wu/video/examples/example1/audio/1.wav",
      "command": [
       "TYPE",
       "AUDIOALT|reading and writing cee-ess-vee files is a key skill to master for any data scientist."
      ],
      "text": "# reading and writing CSV files is a key skill to master for any data scientist."
     },
     {
      "command": [
       "PAUSE500"
      ],
      "text": ""
     },
     {
      "audio_index": 2,
      "audio_src": "/Users/mengyanw/University of Michigan Dropbox/Mengyan Wu/video/examples/example1/audio/2.wav",
      "command": [
       "TYPE",
       "AUDIOALT|To review, a cee-ess-vee is a tee-ex-tee file where values or columns are separated by commas. cee-ess-vee is quick to read and is"
      ],
      "text": "# To review,a  CSV is a txt file where values or columns are separated by commas CSV is quick to read and is"
     },
     {
      "audio_index": 2,
      "audio_src": "/Users/mengyanw/University of Michigan Dropbox/Mengyan Wu/video/examples/example1/audio/2.wav",
      "command": [
       "TYPE",
       "AUDIOALT|compatible with most platforms, you can even open a cee-ess-vee file with the text editor built into Jupyter"
      ],
      "text": "# compatible with most platforms, you can even open a CSV file with the text editor built into Jupyter"
     },
     {
      "command": [
       "PAUSE500"
      ],
      "text": ""
     },
     {
      "audio_index": 3,
      "audio_src": "/Users/mengyanw/University of Michigan Dropbox/Mengyan Wu/video/examples/example1/audio/3.wav",
      "command": [
       "TYPE",
       "AUDIOALT|While cee-ess-vee is very easy to load, real world data rarely contains clean data in these cases, there are a few"
      ],
      "text": "# While CSV is very easy to load, real world data rarly contains clean data in these cases, there are a few"
     },
     {
      "audio_index": 3,
      "audio_src": "/Users/mengyanw/University of Michigan Dropbox/Mengyan Wu/video/examples/example1/audio/3.wav",
      "command": [
       "AUDIO",
       "TYPE"
      ],
      "text": "# different pandas functions that can help out with messy data here is an example of a CSV file I pulled from"
     },
     {
      "audio_index": 3,
      "audio_src": "/Users/mengyanw/University of Michigan Dropbox/Mengyan Wu/video/examples/example1/audio/3.wav",
      "command": [
       "AUDIO",
       "TYPE"
      ],
      "text": "# google containing data on national education."
     },
     {
      "command": [
       "TYPE"
      ],
      "text": "df= pd.read_csv ('datasets/National-2018-20190321.csv')"
     },
     {
      "command": [
       "TYPE"
      ],
      "text": "print(df.head())"
     },
     {
      "command": [
       "SELECT10",
       "SELECT11",
       "EXECUTE",
       "PAUSE1500"
      ],
      "text": ""
     },
     {
      "audio_index": 4,
      "audio_src": "/Users/mengyanw/University of Michigan Dropbox/Mengyan Wu/video/examples/example1/audio/4.wav",
      "command": [
       "AUDIO",
       "TYPE"
      ],
      "text": "# We can summerize the counts of unique values for a specific collumn, so the most frequently-occurring"
     },
     {
      "audio_index": 4,
      "audio_src": "/Users/mengyanw/University of Michigan Dropbox/Mengyan Wu/video/examples/example1/audio/4.wav",
      "command": [
       "AUDIO",
       "TYPE"
      ],
      "text": "# element and how much they occur"
     },
     {
      "command": [
       "TYPE"
      ],
      "text": "df['Qualification'].value_counts()"
     }
    ],
    "map": [
     {
      "command": [
       "TYPE",
       "AUDIOALT|One of the most common and easiest files to work with is a cee-ess-vee file or comma-separated text file. Loading,"
      ]
     },
     {
      "command": [
       "TYPE",
       "AUDIOALT|reading and writing cee-ess-vee files is a key skill to master for any data scientist."
      ]
     },
     {
      "command": [
       "PAUSE500"
      ]
     },
     {
      "command": [
       "TYPE",
       "AUDIOALT|To review, a cee-ess-vee is a tee-ex-tee file where values or columns are separated by commas. cee-ess-vee is quick to read and is"
      ]
     },
     {
      "command": [
       "TYPE",
       "AUDIOALT|compatible with most platforms, you can even open a cee-ess-vee file with the text editor built into Jupyter"
      ]
     },
     {
      "command": [
       "PAUSE500"
      ]
     },
     {
      "command": [
       "TYPE",
       "AUDIOALT|While cee-ess-vee is very easy to load, real world data rarely contains clean data in these cases, there are a few"
      ]
     },
     {
      "command": [
       "AUDIO",
       "TYPE"
      ]
     },
     {
      "command": [
       "AUDIO",
       "TYPE"
      ]
     },
     {
      "command": [
       "TYPE"
      ]
     },
     {
      "command": [
       "TYPE"
      ]
     },
     {
      "command": [
       "SELECT10",
       "SELECT11",
       "EXECUTE",
       "PAUSE1500"
      ]
     },
     {
      "command": [
       "AUDIO",
       "TYPE"
      ]
     },
     {
      "command": [
       "AUDIO",
       "TYPE"
      ]
     },
     {
      "command": [
       "TYPE"
      ]
     },
     {
      "command": [
       "SELECT15",
       "EXECUTE",
       "PAUSE3000"
      ]
     }
    ],
    "slideshow": {
     "slide_type": ""
    },
    "tags": []
   },
   "outputs": [
    {
     "ename": "NameError",
     "evalue": "name 'pd' is not defined",
     "output_type": "error",
     "traceback": [
      "\u001b[0;31m---------------------------------------------------------------------------\u001b[0m",
      "\u001b[0;31mNameError\u001b[0m                                 Traceback (most recent call last)",
      "Cell \u001b[0;32mIn[1], line 10\u001b[0m\n\u001b[1;32m      1\u001b[0m \u001b[38;5;66;03m# One of the most common and easiest files to work with is a CSV file or comma-separated text file. Loading,\u001b[39;00m\n\u001b[1;32m      2\u001b[0m \u001b[38;5;66;03m# reading and writing CSV files is a key skill to master for any data scientist.\u001b[39;00m\n\u001b[1;32m      3\u001b[0m \n\u001b[0;32m   (...)\u001b[0m\n\u001b[1;32m      8\u001b[0m \u001b[38;5;66;03m# different pandas functions that can help out with messy data here is an example of a CSV file I pulled from\u001b[39;00m\n\u001b[1;32m      9\u001b[0m \u001b[38;5;66;03m# google containing data on national education.\u001b[39;00m\n\u001b[0;32m---> 10\u001b[0m df\u001b[38;5;241m=\u001b[39m \u001b[43mpd\u001b[49m\u001b[38;5;241m.\u001b[39mread_csv (\u001b[38;5;124m'\u001b[39m\u001b[38;5;124mdatasets/National-2018-20190321.csv\u001b[39m\u001b[38;5;124m'\u001b[39m)\n\u001b[1;32m     11\u001b[0m \u001b[38;5;28mprint\u001b[39m(df\u001b[38;5;241m.\u001b[39mhead())\n",
      "\u001b[0;31mNameError\u001b[0m: name 'pd' is not defined"
     ]
    }
   ],
   "source": [
    "# One of the most common and easiest files to work with is a CSV file or comma-separated text file. Loading,\n",
    "# reading and writing CSV files is a key skill to master for any data scientist.\n",
    "\n",
    "# To review,a  C"
   ]
  },
  {
   "cell_type": "code",
   "execution_count": null,
   "metadata": {},
   "outputs": [],
   "source": []
  }
 ],
 "metadata": {
  "cellIndex": 1,
  "etc_identifier": "d157b60f-1aee-40ab-898c-ee7d1556d9fb",
  "isPlaying": false,
  "kernelspec": {
   "display_name": "Python 3 (ipykernel)",
   "language": "python",
   "name": "python3"
  },
  "language_info": {
   "codemirror_mode": {
    "name": "ipython",
    "version": 3
   },
   "file_extension": ".py",
   "mimetype": "text/x-python",
   "name": "python",
   "nbconvert_exporter": "python",
   "pygments_lexer": "ipython3",
   "version": "3.10.15"
  },
  "lineIndex": 3,
  "mode": "player"
 },
 "nbformat": 4,
 "nbformat_minor": 4
}
